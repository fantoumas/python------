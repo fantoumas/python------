{
 "cells": [
  {
   "cell_type": "code",
   "execution_count": 1,
   "metadata": {},
   "outputs": [],
   "source": [
    "# 栈的简单实现\n",
    "class stack(object):\n",
    "    def __init__(self):\n",
    "        self.items = []\n",
    "    def isEmpty(self):\n",
    "        return self.items == []\n",
    "    def push(self, item):\n",
    "        return self.items.append(item)\n",
    "    def pop(self):\n",
    "        return self.items.pop()\n",
    "    def peek(self):\n",
    "        return self.items[-1]\n",
    "    def size(self):\n",
    "        return len(self.items)"
   ]
  },
  {
   "cell_type": "code",
   "execution_count": 2,
   "metadata": {},
   "outputs": [
    {
     "name": "stdout",
     "output_type": "stream",
     "text": [
      "11001\n",
      "3C\n"
     ]
    }
   ],
   "source": [
    "from pythonds.basic.stack import Stack   # 十进制转换   整数\n",
    "\n",
    "def bashConverter(decNum, base):\n",
    "    s = Stack()\n",
    "    digits = \"0123456789ABCDEF\"\n",
    "    while decNum > 0:\n",
    "        remNum = decNum % base\n",
    "        s.push(remNum)\n",
    "        decNum = decNum // base\n",
    "        \n",
    "    num = ''\n",
    "    \n",
    "    while not s.isEmpty():\n",
    "        num = num + digits[s.pop()]\n",
    "        \n",
    "    return num\n",
    "\n",
    "\n",
    "print(bashConverter(25,2))\n",
    "print(bashConverter(60,16))"
   ]
  },
  {
   "cell_type": "code",
   "execution_count": 36,
   "metadata": {},
   "outputs": [
    {
     "name": "stdout",
     "output_type": "stream",
     "text": [
      "1 2 3 + 4 * + 5 -\n"
     ]
    }
   ],
   "source": [
    "def infixTopostfix(infixexpr):  # 前缀转后缀表达式\n",
    "    prec = {}\n",
    "    opstack = Stack()\n",
    "    postfix = []\n",
    "    prec['('] = 1\n",
    "    prec['+'] = 2\n",
    "    prec['-'] = 2\n",
    "    prec['/'] = 3\n",
    "    prec['*'] = 3\n",
    "    tokenlist = infixexpr.split()\n",
    "    digist = 'ABCDEFGHIJKLMNOPQRSTUVWXYZ0123456789' \n",
    "    for token in tokenlist:\n",
    "        if token in digist:\n",
    "            postfix.append(token)\n",
    "        elif token == '(':\n",
    "            opstack.push(token)\n",
    "        elif token == ')':\n",
    "            toptoken = opstack.pop()\n",
    "            while toptoken != '(':\n",
    "                postfix.append(toptoken)\n",
    "                toptoken = opstack.pop()\n",
    "        else:\n",
    "            while (not opstack.isEmpty()) and prec[token] <= prec[opstack.peek()]:\n",
    "                postfix.append(opstack.pop())\n",
    "            opstack.push(token)\n",
    "\n",
    "    while not opstack.isEmpty():\n",
    "        postfix.append(opstack.pop())\n",
    "    return \" \".join(postfix)\n",
    "\n",
    "\n",
    "print(infixTopostfix(' 1 + ( ( 2 + 3 ) * 4 ) - 5 '))"
   ]
  },
  {
   "cell_type": "code",
   "execution_count": 44,
   "metadata": {},
   "outputs": [
    {
     "name": "stdout",
     "output_type": "stream",
     "text": [
      "3.0\n"
     ]
    }
   ],
   "source": [
    "# 后缀表达式求值\n",
    "def postfixEval(postfixExpr):\n",
    "    s1 = Stack()\n",
    "    s2 = Stack()\n",
    "    digist = '0123456789'\n",
    "    tokenlist = postfixExpr.split()\n",
    "    for token in tokenlist:\n",
    "        if token in digist:\n",
    "            s1.push(int(token))\n",
    "        else :\n",
    "            num2 = s1.pop()\n",
    "            num1 = s1.pop()\n",
    "            Eval = Math(token, num1, num2)\n",
    "            s1.push(Eval)\n",
    "    return s1.pop()\n",
    "\n",
    "def Math(op, num1, num2):\n",
    "    if op == \"*\":\n",
    "        return num1 * num2\n",
    "    elif op == \"/\":\n",
    "        return num1 / num2\n",
    "    elif op == \"+\":\n",
    "        return num1 + num2\n",
    "    else:\n",
    "        return num1 - num2\n",
    "    \n",
    "print(postfixEval('7 8 + 3 2 + /'))"
   ]
  },
  {
   "cell_type": "code",
   "execution_count": 17,
   "metadata": {},
   "outputs": [
    {
     "name": "stdout",
     "output_type": "stream",
     "text": [
      "A\n",
      "+\n",
      "B\n",
      "+\n",
      "C\n",
      "+\n",
      "D\n"
     ]
    }
   ],
   "source": [
    "for i in tl:\n",
    "    print(i)"
   ]
  },
  {
   "cell_type": "code",
   "execution_count": null,
   "metadata": {},
   "outputs": [],
   "source": []
  }
 ],
 "metadata": {
  "kernelspec": {
   "display_name": "Python 3",
   "language": "python",
   "name": "python3"
  },
  "language_info": {
   "codemirror_mode": {
    "name": "ipython",
    "version": 3
   },
   "file_extension": ".py",
   "mimetype": "text/x-python",
   "name": "python",
   "nbconvert_exporter": "python",
   "pygments_lexer": "ipython3",
   "version": "3.6.2"
  }
 },
 "nbformat": 4,
 "nbformat_minor": 2
}
